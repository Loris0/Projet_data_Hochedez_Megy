{
 "cells": [
  {
   "cell_type": "markdown",
   "id": "bdfe3ca1-8dcd-4d67-a9f0-24d1ae74f8cf",
   "metadata": {},
   "source": [
    "# Projet numérique de science des données - NOM 1 Prénom 1 et NOM 2 Prénom 2"
   ]
  },
  {
   "cell_type": "markdown",
   "id": "cd306b34-3910-4c94-8648-550e23d1d6b6",
   "metadata": {},
   "source": [
    "## Introduction au projet\n",
    "\n",
    "Il s'agit dans ce projet d'utiliser des données cartographiques décrivant des carrés de 30m x 30m pour construire un modèle prédictif de l'espèce d'arbre présente sur un tel carré.\n",
    "\n",
    "Le but final est d'appliquer ce modèle pour faire des prédictions pour des données pour lesquelles vous ne disposez pas d'une étiquette.\n",
    "\n",
    "__Consignes :__ \n",
    "* Vous devez rendre, par binôme :\n",
    "    * un notebook jupyter\n",
    "    * un fichier de prédictions (voir plus bas pour le format)\n",
    "* __Renseignez vos noms/prénoms__ dans le titre du notebook\n",
    "* Vous avez jusqu'au __1er juillet midi heure de Paris__\n",
    "* Déposez vos fichiers [sur Campus](https://campus.mines-paristech.fr/course/view.php?id=404) dans la section dédiée (un seul rendu par binôme est nécessaire)\n",
    "\n",
    "\n",
    "__Déroulé :__\n",
    "* Les séances du lundi 14/06 (15h30-17h) et jeudi 24/06 (15h30-17h) sont dédiées au projet numérique. Faites-en bon usage.\n",
    "* Certaines sections font appel à des notions qui n'auront pas encore été vues le 14/06 ; c'est indiqué le cas échéant."
   ]
  },
  {
   "cell_type": "markdown",
   "id": "bdee30fc-75fc-4e62-8070-6a2a8fff2f27",
   "metadata": {},
   "source": [
    "## Données"
   ]
  },
  {
   "cell_type": "markdown",
   "id": "7cd5ed63-af4d-4e79-bf38-f28dce55717e",
   "metadata": {},
   "source": [
    "### Données publiques et privées\n",
    "\n",
    "Le dossier `data/` contient deux jeux de données :\n",
    "* `data/foret_public.tsv` contient les données étiquetées, à partir desquelles construire votre modèle\n",
    "* `data/foret_prive.tsv` contient les données non-étiquetées, pour lesquelles faire vos prédictions.\n",
    "\n",
    "Chaque ligne dans les données correspond à un carré de 30 m x 30m, décrit par les variables suivantes :\n",
    "* `altitude` : altitude en mètres\n",
    "* `exposition` : azimut en degrés \n",
    "* `pente` : pente en degrés\n",
    "* `distance_horizontale_hydro` : distance horizontale au point d'eau le plus proche (en mètres)\n",
    "* `distance_verticale_hydro` : distance verticale au point d'eau le plus proche (en mètres)\n",
    "* `distance_horizontale_route` : distance horizontale à la route la plus proche (en mètres)\n",
    "* `ombrage_0900` : index d'ombrages à 9h du matin, au solstice, sur une échelle de 0 à 255\n",
    "* `ombrage_1200` : index d'ombrages à midi, au solstice, sur une échelle de 0 à 255\n",
    "* `ombrage_1500` : index d'ombrages à 15h, au solstice, sur une échelle de 0 à 255\n",
    "* `distance_horizontale_depart_feu` : distance horizontale au départ de feu de forêt le plus proche (en mètres)\n",
    "* `espece` : étiquette : espèce d'arbre présente (0 = pin tordu ; 1 = peuplier)|"
   ]
  },
  {
   "cell_type": "markdown",
   "id": "fda94d36-60a1-415f-adfb-a3366bc4b292",
   "metadata": {},
   "source": [
    "### Chargement des données étiquetées"
   ]
  },
  {
   "cell_type": "code",
   "execution_count": 1,
   "id": "d75dc6be-91ac-4a26-b40c-a74523e2adf8",
   "metadata": {},
   "outputs": [
    {
     "name": "stdout",
     "output_type": "stream",
     "text": [
      "Populating the interactive namespace from numpy and matplotlib\n"
     ]
    }
   ],
   "source": [
    "%pylab inline"
   ]
  },
  {
   "cell_type": "code",
   "execution_count": 2,
   "id": "b53d281b-c6a6-42b4-949a-4c732f626837",
   "metadata": {},
   "outputs": [],
   "source": [
    "import pandas as pd"
   ]
  },
  {
   "cell_type": "code",
   "execution_count": 3,
   "id": "0c1ef8d0-c3e8-4f31-9bf6-bba291ddfc52",
   "metadata": {},
   "outputs": [],
   "source": [
    "df_public = pd.read_csv('data/foret_public.tsv', delimiter='\\t')"
   ]
  },
  {
   "cell_type": "code",
   "execution_count": 4,
   "id": "8d7fbf16-77e0-47a2-8253-004fea627b2b",
   "metadata": {},
   "outputs": [
    {
     "data": {
      "text/html": [
       "<div>\n",
       "<style scoped>\n",
       "    .dataframe tbody tr th:only-of-type {\n",
       "        vertical-align: middle;\n",
       "    }\n",
       "\n",
       "    .dataframe tbody tr th {\n",
       "        vertical-align: top;\n",
       "    }\n",
       "\n",
       "    .dataframe thead th {\n",
       "        text-align: right;\n",
       "    }\n",
       "</style>\n",
       "<table border=\"1\" class=\"dataframe\">\n",
       "  <thead>\n",
       "    <tr style=\"text-align: right;\">\n",
       "      <th></th>\n",
       "      <th>altitude</th>\n",
       "      <th>exposition</th>\n",
       "      <th>pente</th>\n",
       "      <th>distance_horizontale_hydro</th>\n",
       "      <th>distance_verticale_hydro</th>\n",
       "      <th>distance_horizontale_route</th>\n",
       "      <th>ombrage_0900</th>\n",
       "      <th>ombrage_1200</th>\n",
       "      <th>ombrage_1500</th>\n",
       "      <th>distance_horizontale_depart_feu</th>\n",
       "      <th>espece</th>\n",
       "    </tr>\n",
       "  </thead>\n",
       "  <tbody>\n",
       "    <tr>\n",
       "      <th>0</th>\n",
       "      <td>2804</td>\n",
       "      <td>139</td>\n",
       "      <td>9</td>\n",
       "      <td>268</td>\n",
       "      <td>65</td>\n",
       "      <td>3180</td>\n",
       "      <td>234</td>\n",
       "      <td>238</td>\n",
       "      <td>135</td>\n",
       "      <td>6121</td>\n",
       "      <td>0</td>\n",
       "    </tr>\n",
       "    <tr>\n",
       "      <th>1</th>\n",
       "      <td>2785</td>\n",
       "      <td>155</td>\n",
       "      <td>18</td>\n",
       "      <td>242</td>\n",
       "      <td>118</td>\n",
       "      <td>3090</td>\n",
       "      <td>238</td>\n",
       "      <td>238</td>\n",
       "      <td>122</td>\n",
       "      <td>6211</td>\n",
       "      <td>0</td>\n",
       "    </tr>\n",
       "    <tr>\n",
       "      <th>2</th>\n",
       "      <td>2579</td>\n",
       "      <td>132</td>\n",
       "      <td>6</td>\n",
       "      <td>300</td>\n",
       "      <td>-15</td>\n",
       "      <td>67</td>\n",
       "      <td>230</td>\n",
       "      <td>237</td>\n",
       "      <td>140</td>\n",
       "      <td>6031</td>\n",
       "      <td>0</td>\n",
       "    </tr>\n",
       "    <tr>\n",
       "      <th>3</th>\n",
       "      <td>2886</td>\n",
       "      <td>151</td>\n",
       "      <td>11</td>\n",
       "      <td>371</td>\n",
       "      <td>26</td>\n",
       "      <td>5253</td>\n",
       "      <td>234</td>\n",
       "      <td>240</td>\n",
       "      <td>136</td>\n",
       "      <td>4051</td>\n",
       "      <td>0</td>\n",
       "    </tr>\n",
       "    <tr>\n",
       "      <th>4</th>\n",
       "      <td>2742</td>\n",
       "      <td>134</td>\n",
       "      <td>22</td>\n",
       "      <td>150</td>\n",
       "      <td>69</td>\n",
       "      <td>3215</td>\n",
       "      <td>248</td>\n",
       "      <td>224</td>\n",
       "      <td>92</td>\n",
       "      <td>6091</td>\n",
       "      <td>0</td>\n",
       "    </tr>\n",
       "  </tbody>\n",
       "</table>\n",
       "</div>"
      ],
      "text/plain": [
       "   altitude  exposition  pente  distance_horizontale_hydro  \\\n",
       "0      2804         139      9                         268   \n",
       "1      2785         155     18                         242   \n",
       "2      2579         132      6                         300   \n",
       "3      2886         151     11                         371   \n",
       "4      2742         134     22                         150   \n",
       "\n",
       "   distance_verticale_hydro  distance_horizontale_route  ombrage_0900  \\\n",
       "0                        65                        3180           234   \n",
       "1                       118                        3090           238   \n",
       "2                       -15                          67           230   \n",
       "3                        26                        5253           234   \n",
       "4                        69                        3215           248   \n",
       "\n",
       "   ombrage_1200  ombrage_1500  distance_horizontale_depart_feu  espece  \n",
       "0           238           135                             6121       0  \n",
       "1           238           122                             6211       0  \n",
       "2           237           140                             6031       0  \n",
       "3           240           136                             4051       0  \n",
       "4           224            92                             6091       0  "
      ]
     },
     "execution_count": 4,
     "metadata": {},
     "output_type": "execute_result"
    }
   ],
   "source": [
    "df_public.head()"
   ]
  },
  {
   "cell_type": "markdown",
   "id": "0e2e1234-df6f-45ed-9183-8855e9aaf4f1",
   "metadata": {},
   "source": [
    "### Extraction de la matrice de design et des étiquettes "
   ]
  },
  {
   "cell_type": "code",
   "execution_count": 5,
   "id": "8a6eb7b7-9648-4dd2-924b-0a6686e225ba",
   "metadata": {},
   "outputs": [],
   "source": [
    "X_public = np.array(df_public.drop(columns=[\"espece\"]))\n",
    "y_public = np.array(df_public[\"espece\"])"
   ]
  },
  {
   "cell_type": "markdown",
   "id": "2097f148-8f09-4447-b6f4-a53fac8e4597",
   "metadata": {},
   "source": [
    "### Visualisation des variables\n",
    "\n",
    "#### Question 1\n",
    "Visualisez chacune des variables de `X_public` sous la forme de deux histogrammes superposés, l'un correspondant aux observations de la classe positive, l'autre correspondant aux observations de la classe négative.\n",
    "\n",
    "__Conseils :__\n",
    "* utilisez `pos_indices = np.where(y_public==1)[0]` pour déterminer les indices des lignes de `y_public` (et donc dans `X_public`) dont l'étiquette vaut 0.\n",
    "* utilisez l'argument `alpha` de `plt.hist` pour rendre vos histogrammes transparents."
   ]
  },
  {
   "cell_type": "code",
   "execution_count": 6,
   "id": "fb6f1b69",
   "metadata": {},
   "outputs": [],
   "source": [
    "pos_indices = np.where(y_public==1)[0]\n",
    "neg_indices = np.where(y_public==0)[0]\n",
    "\n",
    "X_peupliers = X_public[pos_indices]\n",
    "X_pins = X_public[neg_indices]\n",
    "\n",
    "y_peupliers = y_public[pos_indices]\n",
    "y_pins = y_public[neg_indices]"
   ]
  },
  {
   "cell_type": "code",
   "execution_count": 7,
   "id": "ddc0b08a-e621-49b7-bbc5-566ab210d992",
   "metadata": {},
   "outputs": [
    {
     "data": {
      "image/png": "[encoded data removed]",
      "text/plain": [
       "<Figure size 1440x720 with 10 Axes>"
      ]
     },
     "metadata": {
      "needs_background": "light"
     },
     "output_type": "display_data"
    }
   ],
   "source": [
    "fig, axes = plt.subplots(2, 5, figsize=(20, 10))\n",
    "\n",
    "colonnes = list(df_public.columns)\n",
    "k = 0\n",
    "\n",
    "for i in range(2):\n",
    "    for j in range(5):\n",
    "        ax = axes[i][j]\n",
    "        variable = colonnes[k]\n",
    "        ax.hist(X_pins[::, k], color=\"grey\", label=\"Pins\")\n",
    "        ax.hist(X_peupliers[::, k], alpha=0.5, color=\"red\", label=\"Peupliers\")\n",
    "        ax.legend()\n",
    "        ax.set_title(variable)\n",
    "        k = k + 1\n",
    "plt.show()"
   ]
  },
  {
   "cell_type": "markdown",
   "id": "da1aa716-c22d-4710-8f03-1ee2d60b8aba",
   "metadata": {},
   "source": [
    "#### Question 2\n",
    "Pensez-vous qu'il va être aisé de distinguer les deux classes ?"
   ]
  },
  {
   "cell_type": "markdown",
   "id": "ef4b90d9",
   "metadata": {},
   "source": [
    "Non, les histogrammes se superposent plutôt bien."
   ]
  },
  {
   "cell_type": "markdown",
   "id": "d4a88a2e-5928-43e8-b2f3-d574e76a6ddd",
   "metadata": {},
   "source": [
    "### Pré-traitement des variables"
   ]
  },
  {
   "cell_type": "markdown",
   "id": "19c589d4-631e-44c6-9c96-b6b3a0db4466",
   "metadata": {},
   "source": [
    "#### Question 3\n",
    "Transformez vos variables d'une manière qui vous parait judicieuse, en vous appuyant notamment sur la PC 3. Vous pouvez essayer différents pré-traitements, mais ce n'est pas nécessaire. Justifiez vos choix. Utilisez un array numpy `X_public_preprocessed` pour enregistrer le résultat."
   ]
  },
  {
   "cell_type": "code",
   "execution_count": 8,
   "id": "7a45cf01-4000-40b8-8e8b-298d01f61156",
   "metadata": {},
   "outputs": [],
   "source": [
    "from sklearn import preprocessing"
   ]
  },
  {
   "cell_type": "code",
   "execution_count": 9,
   "id": "5b9eb3b2",
   "metadata": {},
   "outputs": [
    {
     "data": {
      "text/plain": [
       "StandardScaler()"
      ]
     },
     "execution_count": 9,
     "metadata": {},
     "output_type": "execute_result"
    }
   ],
   "source": [
    "standard_scaler = preprocessing.StandardScaler()\n",
    "standard_scaler.fit(X_public)"
   ]
  },
  {
   "cell_type": "code",
   "execution_count": 10,
   "id": "a06ea6a3",
   "metadata": {},
   "outputs": [],
   "source": [
    "X_public_preprocessed = standard_scaler.transform(X_public)"
   ]
  },
  {
   "cell_type": "markdown",
   "id": "cb82bf83-2130-4d0f-98d1-49faa8578d3d",
   "metadata": {},
   "source": [
    "## Premier modèle : 5-NN"
   ]
  },
  {
   "cell_type": "markdown",
   "id": "cac6e657-3b8f-4576-b192-119cea1a65ef",
   "metadata": {},
   "source": [
    "### Algorithme des k plus proches voisins"
   ]
  },
  {
   "cell_type": "markdown",
   "id": "c05c88df-2666-44f9-8c5d-067e32238a82",
   "metadata": {},
   "source": [
    "Nous n'avons pas encore vu d'algorithme permettant d'entraîner un modèle de classification. Nous allons donc commencer avec un modèle simple : celui des __k plus proches voisins__ (ou __kNN__, pour _k nearest neighbors_).\n",
    "\n",
    "Dans ce modèle, la valeur de la fonction de décision en x est la proportion d'individus d'étiquette positive parmi les k plus proches voisins de x au sein des points du jeu d'entraînement ; k est fixé."
   ]
  },
  {
   "cell_type": "markdown",
   "id": "3f093f4a-6905-4404-9a34-4aa3e0b70bcf",
   "metadata": {},
   "source": [
    "Nous allons commencer par utiliser un algorithme des k plus proches voisins avec k fixé à k=5."
   ]
  },
  {
   "cell_type": "markdown",
   "id": "9c9ac02f-3035-47a7-8a75-9ebd604ffae9",
   "metadata": {},
   "source": [
    "#### Question 4\n",
    "\n",
    "Entraînez un modèle des sur les données `(X_public_preprocessed, y_public)` grâce à la classe `KNeighborsClassifier` du module `neighbors` de `sklearn`, utilisez l'algorithme des 5 plus proches voisins pour entrainer un modèle sur votre jeu d'entraînement.\n",
    "\n",
    "Documentation https://scikit-learn.org/stable/modules/generated/sklearn.neighbors.KNeighborsClassifier.html"
   ]
  },
  {
   "cell_type": "code",
   "execution_count": 11,
   "id": "747297ef-4a20-4e9f-af49-f9188f0e6027",
   "metadata": {},
   "outputs": [],
   "source": [
    "from sklearn import neighbors"
   ]
  },
  {
   "cell_type": "code",
   "execution_count": 12,
   "id": "2d51ed84-98b2-4ac7-84a4-d21f2b652b9b",
   "metadata": {},
   "outputs": [
    {
     "data": {
      "text/plain": [
       "KNeighborsClassifier()"
      ]
     },
     "execution_count": 12,
     "metadata": {},
     "output_type": "execute_result"
    }
   ],
   "source": [
    "neigh = neighbors.KNeighborsClassifier(n_neighbors=5)\n",
    "neigh.fit(X_public_preprocessed, y_public)"
   ]
  },
  {
   "cell_type": "markdown",
   "id": "53b34345-fa60-47de-904f-e44e655e9ccd",
   "metadata": {},
   "source": [
    "### Performance\n",
    "\n",
    "Il existe de nombreuses métriques pour évaluer les performances d'un algorithme de classification. Nous allons ici utiliser le F-score, dont vous trouverez une description dans la documentation du module `metrics` de `sklearn` : https://scikit-learn.org/stable/modules/generated/sklearn.metrics.f1_score.html#sklearn.metrics.f1_score et https://scikit-learn.org/stable/modules/model_evaluation.html#precision-recall-f-measure-metrics.\n",
    "\n",
    "#### Question 5\n",
    "Quel serait sur nos données le F-score d'un modèle naïf prédisant systématiquement la classe positive ?"
   ]
  },
  {
   "cell_type": "markdown",
   "id": "7c279ae0",
   "metadata": {},
   "source": [
    "Pour un modèle de classification, on définit les deux grandeurs suivantes :\n",
    "- sa précision : $$p = \\frac{\\text{nombre de vrais positifs}}{\\text{nombre d'individus classés positifs}}$$\n",
    "- son rappel : $$r = \\frac{\\text{nombre de vrais positifs}}{\\text{nombre d'individus positifs}}$$\n",
    "- son F-score : $$F = 2 \\cdot \\frac{rp}{r+p}$$\n",
    "\n",
    "Dans notre cas, un modèle naïf prédisant systématiquement la classe positive aurait une précision $p = 0,5$, un rappel $r = 1$, et donc un F-score $F = \\frac{2}{3}$."
   ]
  },
  {
   "cell_type": "markdown",
   "id": "9c608f7e-e309-4127-9011-7e906000dadc",
   "metadata": {},
   "source": [
    "#### Question 6\n",
    "\n",
    "Quelle est le F-score du modèle de 5 plus proches voisins que vous venez d'entraîner, sur les données `(X_public_preprocessed, y_public)` ?"
   ]
  },
  {
   "cell_type": "code",
   "execution_count": 13,
   "id": "4f19db88",
   "metadata": {},
   "outputs": [],
   "source": [
    "from sklearn.metrics import f1_score"
   ]
  },
  {
   "cell_type": "code",
   "execution_count": 14,
   "id": "a00a75f3-2767-41c2-8b49-e4287897c9d0",
   "metadata": {},
   "outputs": [
    {
     "name": "stdout",
     "output_type": "stream",
     "text": [
      "0.9290079924776682\n"
     ]
    }
   ],
   "source": [
    "y_pred = neigh.predict(X_public_preprocessed)\n",
    "print(f1_score(y_public, y_pred))"
   ]
  },
  {
   "cell_type": "markdown",
   "id": "c4c1d437-e850-40b2-ae6d-aeeedb1090ce",
   "metadata": {},
   "source": [
    "#### Question 7\n",
    "* Que pensez-vous de cette performance ? \n",
    "* Est-ce une bonne idée d'évaluer le modèle sur le jeu d'entraînement ? (Réfléchissez en particulier au cas où k=1.)"
   ]
  },
  {
   "cell_type": "markdown",
   "id": "08a02fc1",
   "metadata": {},
   "source": [
    "Le F-score de notre modèle est bon, cependant ce n'est pas une bonne idée d'évaluer notre modèle sur le jeu avec lequel il a été construit (il aura forcément un bon score sur ce jeu particulier).\n",
    "\n",
    "Pour k=1, on voit que le modèle sera parfait sur le jeu d'entraînement, car pour chaque $x$, la fonction de décision sera la proportion d'individus d'étiquette positive parmi les 1 plus proches voisins de $x$ dans le jeu d'entraînement. En particulier, pour les $x$ présents dans le jeu d'entraînement, le seul voisin exploré est $x$. Les éléments $x$ du jeu d'entraînement seront donc classés correctement par notre modèle, et en évaluant notre modèle sur le jeu d'entraînement, on n'obtient pas d'information sur la réelle performance du modèle."
   ]
  },
  {
   "cell_type": "markdown",
   "id": "fe3d729e-53f6-48ed-991b-f9f0f6673f94",
   "metadata": {},
   "source": [
    "## Création d'un jeu de test\n",
    "\n",
    "À partir de maintenant, nous allons séparer les données en un jeu d'entraînement, que nous utiliserons pour entraîner différents modèles, et un jeu de test, que nous utiliserons pour les comparer. (Cf CM 8)."
   ]
  },
  {
   "cell_type": "code",
   "execution_count": 15,
   "id": "00908d3c-3d44-48a6-b408-0ed2e78de0ec",
   "metadata": {},
   "outputs": [],
   "source": [
    "from sklearn import model_selection"
   ]
  },
  {
   "cell_type": "code",
   "execution_count": 16,
   "id": "47ce3a28-dfc8-4023-abdf-f7ad1c4227d5",
   "metadata": {},
   "outputs": [
    {
     "data": {
      "text/plain": [
       "((4800, 10), (1200, 10))"
      ]
     },
     "execution_count": 16,
     "metadata": {},
     "output_type": "execute_result"
    }
   ],
   "source": [
    "# Use 20% for testing\n",
    "X_train, X_test, y_train, y_test = model_selection.train_test_split(X_public, y_public, test_size=0.20,\n",
    "                                                                    stratify=y_public,\n",
    "                                                                    random_state=42) \n",
    "X_train.shape, X_test.shape"
   ]
  },
  {
   "cell_type": "markdown",
   "id": "06cf00af-77f5-4051-a05a-ab9432b228a0",
   "metadata": {},
   "source": [
    "### Performance sur le jeu de test d'un 5-NN entraîné sur le jeu d'entrainement"
   ]
  },
  {
   "cell_type": "markdown",
   "id": "c44f1211-a214-47a5-a709-0590c9dd01a8",
   "metadata": {},
   "source": [
    "#### Question 8.a \n",
    "\n",
    "Entrainez de nouveau un modèle avec l'algorithme des 5 plus proches voisins, mais cette fois, utilisez uniquement le jeu d'entraînement. __Attention__ à bien « entraîner » votre pre-processing sur le jeu d'entraînement seulement ; considérez le jeu de test comme des données que vous ne voyez pas au moment de l'entraînement."
   ]
  },
  {
   "cell_type": "code",
   "execution_count": 17,
   "id": "fa168ef9-edb0-4f8a-9f66-6b745b1b5709",
   "metadata": {},
   "outputs": [],
   "source": [
    "# Pré-traitement des variables\n",
    "standard_scaler = preprocessing.StandardScaler()\n",
    "standard_scaler.fit(X_train)\n",
    "X_train_preprocessed = standard_scaler.transform(X_train)"
   ]
  },
  {
   "cell_type": "code",
   "execution_count": 18,
   "id": "00aa81df",
   "metadata": {},
   "outputs": [
    {
     "data": {
      "text/plain": [
       "KNeighborsClassifier()"
      ]
     },
     "execution_count": 18,
     "metadata": {},
     "output_type": "execute_result"
    }
   ],
   "source": [
    "# Entraînement du modèle\n",
    "neigh = neighbors.KNeighborsClassifier(n_neighbors=5)\n",
    "neigh.fit(X_train_preprocessed, y_train)"
   ]
  },
  {
   "cell_type": "markdown",
   "id": "7499da0b-24f7-4e9a-8b67-f9aa05005aa1",
   "metadata": {},
   "source": [
    "#### Question 8.b\n",
    "Évaluez le F-score sur le jeu de test du modèle entraîné à la question précédente."
   ]
  },
  {
   "cell_type": "code",
   "execution_count": 81,
   "id": "9d4a955f",
   "metadata": {},
   "outputs": [],
   "source": [
    "# Pré-traitement des variables\n",
    "standard_scaler = preprocessing.StandardScaler()\n",
    "standard_scaler.fit(X_test)\n",
    "X_test_preprocessed = standard_scaler.transform(X_test)"
   ]
  },
  {
   "cell_type": "code",
   "execution_count": 82,
   "id": "3d453b21-9ff3-4cf7-b6a7-75a74bf7eaff",
   "metadata": {},
   "outputs": [
    {
     "name": "stdout",
     "output_type": "stream",
     "text": [
      "0.8334578043315907\n"
     ]
    }
   ],
   "source": [
    "y_pred = neigh.predict(X_test_preprocessed)\n",
    "print(f1_score(y_test, y_pred))"
   ]
  },
  {
   "cell_type": "markdown",
   "id": "9beee624-9828-4c0a-8f1f-1930df57d9fb",
   "metadata": {},
   "source": [
    "#### Question 9\n",
    "Commentez le F-score obtenu ci-dessus."
   ]
  },
  {
   "cell_type": "markdown",
   "id": "b8c878a0",
   "metadata": {},
   "source": [
    "Ce F-score est légèrement moins bon que lorsqu'on avait évalué le modèle sur le jeu d'entraînement. Cela signifie que notre modèle n'a pas surappris."
   ]
  },
  {
   "cell_type": "markdown",
   "id": "a6405b44-a6fe-4c66-b49d-7abef561b6cc",
   "metadata": {},
   "source": [
    "## [À partir du CM 8 / de la PC 4] Sélection du nombre de plus proches voisins"
   ]
  },
  {
   "cell_type": "markdown",
   "id": "6d956186-5bbc-461f-af32-96e0d25988d2",
   "metadata": {},
   "source": [
    "#### Question 10.a \n",
    "Utilisez maintenant une validation croisée pour sélectionner la valeur optimale du nombre de voisins avec `GridSearchCV` (voir notamment PC4). \n",
    "\n",
    "Vous pouvez utiliser la grille de valeurs de k suivante, ou la modifier :"
   ]
  },
  {
   "cell_type": "code",
   "execution_count": 83,
   "id": "1ddce4a8",
   "metadata": {},
   "outputs": [],
   "source": [
    "from sklearn.model_selection import GridSearchCV"
   ]
  },
  {
   "cell_type": "code",
   "execution_count": 87,
   "id": "16f3d578-78c0-43cc-a3eb-12b67de43810",
   "metadata": {},
   "outputs": [
    {
     "name": "stdout",
     "output_type": "stream",
     "text": [
      "Meilleur nombre de voisins : 1\n",
      "F-score moyen pour ce nombre de voisins : 0.9083731373687186\n"
     ]
    }
   ],
   "source": [
    "predictor = neighbors.KNeighborsClassifier()\n",
    "liste_n = np.arange(1, 40, 2) # on va chercher pour 1, 3, 5, ..., 37, 39 voisins\n",
    "\n",
    "tuned_parameters = [{'n_neighbors': liste_n}]\n",
    "nb_folds = 10\n",
    "grid = GridSearchCV(predictor, tuned_parameters, cv=nb_folds, refit=False, scoring='f1')\n",
    "\n",
    "grid.fit(X_train_preprocessed, y_train)\n",
    "\n",
    "scores = grid.cv_results_['mean_test_score']\n",
    "scores_std = grid.cv_results_['std_test_score']\n",
    "\n",
    "std_error = scores_std / np.sqrt(nb_folds)\n",
    "\n",
    "print(f\"Meilleur nombre de voisins : {liste_n[np.argmax(scores)]}\\nF-score moyen pour ce nombre de voisins : {np.max(scores)}\")"
   ]
  },
  {
   "cell_type": "markdown",
   "id": "8ef9a205-e9a3-47d8-b625-cd68473479f3",
   "metadata": {},
   "source": [
    "#### Question 10.b\n",
    "Quel est le F-score correspondant au nombre de voisin optimal ?"
   ]
  },
  {
   "cell_type": "markdown",
   "id": "cb1c5d27",
   "metadata": {},
   "source": [
    "Le score correspondant au nombre de voisin optimal (1) est 0.91."
   ]
  },
  {
   "cell_type": "markdown",
   "id": "338daf11-91b5-4dec-86c9-e5e9029c3215",
   "metadata": {},
   "source": [
    "#### Question 10.c\n",
    "\n",
    "Quel est le F-score, sur le jeu de test, d'un modèle obtenu en entraînant un algorithme des k plus proches voisins, avec le k que vous venez de déterminer, sur le jeu d'entraînement ? Commentez."
   ]
  },
  {
   "cell_type": "code",
   "execution_count": 23,
   "id": "429bacda-f440-4f39-b5ac-ca5b9e2f8732",
   "metadata": {},
   "outputs": [
    {
     "name": "stdout",
     "output_type": "stream",
     "text": [
      "0.9132492113564669\n"
     ]
    }
   ],
   "source": [
    "neigh = neighbors.KNeighborsClassifier(n_neighbors=1)\n",
    "neigh.fit(X_train_preprocessed, y_train)\n",
    "y_pred = neigh.predict(X_test_preprocessed)\n",
    "print(f1_score(y_test, y_pred))"
   ]
  },
  {
   "cell_type": "markdown",
   "id": "c1a42476-6aff-42a0-91f8-5769bcaab49e",
   "metadata": {},
   "source": [
    "## [À partir de la PC 5] Régression logistique"
   ]
  },
  {
   "cell_type": "markdown",
   "id": "327cd4c2-b134-49e9-83ae-532ec909e97f",
   "metadata": {},
   "source": [
    "### Régression logistique non-régularisée"
   ]
  },
  {
   "cell_type": "markdown",
   "id": "96c0295c-3839-41d8-9005-2fed00d960b3",
   "metadata": {},
   "source": [
    "#### Question 11.a\n",
    "\n",
    "Entraînez une régression logistique non-régularisée sur le jeu d'entraînement.\n",
    "\n",
    "__Conseils :__\n",
    "* Vous trouverez les outils nécessaires dans la classe `LogisticRegression` du module `linear_model` de `scikit-learn` ; il s'agit ainsi d'une variante de la PC5. Comme toujours, référez-vous à la [documentation](https://scikit-learn.org/stable/modules/generated/sklearn.linear_model.LogisticRegression.html).\n",
    "* Pour ne pas avoir de régularisation, utilisez `penalty='none'`"
   ]
  },
  {
   "cell_type": "code",
   "execution_count": 24,
   "id": "3edb4e05-3c38-414e-a212-64ac18fef289",
   "metadata": {},
   "outputs": [],
   "source": [
    "from sklearn.linear_model import LogisticRegression"
   ]
  },
  {
   "cell_type": "code",
   "execution_count": 25,
   "id": "69fa9fb7",
   "metadata": {},
   "outputs": [
    {
     "data": {
      "text/plain": [
       "LogisticRegression(penalty='none')"
      ]
     },
     "execution_count": 25,
     "metadata": {},
     "output_type": "execute_result"
    }
   ],
   "source": [
    "logis = LogisticRegression(penalty=\"none\")\n",
    "logis.fit(X_train_preprocessed, y_train)"
   ]
  },
  {
   "cell_type": "markdown",
   "id": "151f97c2-a12f-4768-9a24-287ba966264a",
   "metadata": {},
   "source": [
    "#### Question 11.b\n",
    "Évaluez le F-score de cette régression logistique non-régularisée sur le jeu de test."
   ]
  },
  {
   "cell_type": "code",
   "execution_count": 26,
   "id": "f1155783-d782-49d4-b69e-1b1e6512e10f",
   "metadata": {},
   "outputs": [
    {
     "name": "stdout",
     "output_type": "stream",
     "text": [
      "0.776954732510288\n"
     ]
    }
   ],
   "source": [
    "y_logis_pred = logis.predict(X_test_preprocessed)\n",
    "print(f1_score(y_test, y_logis_pred))"
   ]
  },
  {
   "cell_type": "markdown",
   "id": "f2b09008-984c-4027-84d9-4bc34bf66e17",
   "metadata": {},
   "source": [
    "#### Question 12\n",
    "Vous attendez-vous à ce qu'utiliser une régularisation l2 améliore les performances du modèle ? Pourquoi ?"
   ]
  },
  {
   "cell_type": "markdown",
   "id": "37d504dd",
   "metadata": {},
   "source": [
    "Évaluons d'abord le F-score de cette régression logistique sur le jeu d'entraînement."
   ]
  },
  {
   "cell_type": "code",
   "execution_count": 27,
   "id": "6b983f35-1243-4175-8025-50485ed1eae0",
   "metadata": {},
   "outputs": [
    {
     "name": "stdout",
     "output_type": "stream",
     "text": [
      "0.7724933086267243\n"
     ]
    }
   ],
   "source": [
    "print(f1_score(y_train, logis.predict(X_train_preprocessed)))"
   ]
  },
  {
   "cell_type": "markdown",
   "id": "a5f544d6",
   "metadata": {},
   "source": [
    "On obtient un F-score proche du score précédent. Notre modèle sous-apprend, donc une régularisation l2 n'améliorera pas les performances du modèle (cette régularisation étant utile en cas de surapprentissage, ce qui n'est pas le cas ici)."
   ]
  },
  {
   "cell_type": "markdown",
   "id": "9f77f9d8-168f-4db4-bd3b-374447ca90d5",
   "metadata": {},
   "source": [
    "#### Question 13.a\n",
    "Déterminez par validation croisée une valeur optimale du coefficient de régularisation d'une régression logistique avec régularisation ridge."
   ]
  },
  {
   "cell_type": "code",
   "execution_count": 28,
   "id": "465f5a44-ace6-4819-9c49-38297f60bb59",
   "metadata": {},
   "outputs": [
    {
     "name": "stdout",
     "output_type": "stream",
     "text": [
      "Meilleur valeur de C : 19.0\n",
      "F-score moyen pour cette valeur de C : 0.7707766776383049\n"
     ]
    }
   ],
   "source": [
    "# Ici on cherche pour C compris entre 1 et 1000 avec un pas de 1.\n",
    "\n",
    "predictor = LogisticRegression(penalty='l2')\n",
    "liste_C = np.linspace(1, 1000, 1000)\n",
    "\n",
    "tuned_parameters = [{'C': liste_C}]\n",
    "nb_folds = 10\n",
    "grid = GridSearchCV(predictor, tuned_parameters, cv=nb_folds, refit=False, scoring='f1')\n",
    "\n",
    "grid.fit(X_train_preprocessed, y_train)\n",
    "\n",
    "scores = grid.cv_results_['mean_test_score']\n",
    "scores_std = grid.cv_results_['std_test_score']\n",
    "\n",
    "std_error = scores_std / np.sqrt(nb_folds)\n",
    "\n",
    "print(f\"Meilleur valeur de C : {liste_C[np.argmax(scores)]}\\nF-score moyen pour cette valeur de C : {np.max(scores)}\")"
   ]
  },
  {
   "cell_type": "code",
   "execution_count": 29,
   "id": "28b6c1e0",
   "metadata": {},
   "outputs": [
    {
     "data": {
      "image/png": "[encoded data removed]",
      "text/plain": [
       "<Figure size 432x288 with 1 Axes>"
      ]
     },
     "metadata": {
      "needs_background": "light"
     },
     "output_type": "display_data"
    }
   ],
   "source": [
    "fig, ax = plt.subplots()\n",
    "\n",
    "ax.plot(liste_C, scores)\n",
    "\n",
    "plt.show()"
   ]
  },
  {
   "cell_type": "markdown",
   "id": "e1ece3a8",
   "metadata": {},
   "source": [
    "On voit avec cette figure qu'on va chercher des valeurs de C inférieures à 200."
   ]
  },
  {
   "cell_type": "code",
   "execution_count": 30,
   "id": "e723bb02",
   "metadata": {},
   "outputs": [
    {
     "name": "stdout",
     "output_type": "stream",
     "text": [
      "Meilleur valeur de C : 0.30000000000000004\n",
      "F-score moyen pour cette valeur de C : 0.7715235859819303\n"
     ]
    }
   ],
   "source": [
    "# Ici on cherche pour C compris entre 0.1 et 200 avec un pas de 0.1.\n",
    "\n",
    "predictor = LogisticRegression(penalty='l2')\n",
    "liste_C = np.linspace(0.1, 200, 2000)\n",
    "\n",
    "tuned_parameters = [{'C': liste_C}]\n",
    "nb_folds = 10\n",
    "grid = GridSearchCV(predictor, tuned_parameters, cv=nb_folds, refit=False, scoring='f1')\n",
    "\n",
    "grid.fit(X_train_preprocessed, y_train)\n",
    "\n",
    "scores = grid.cv_results_['mean_test_score']\n",
    "scores_std = grid.cv_results_['std_test_score']\n",
    "\n",
    "std_error = scores_std / np.sqrt(nb_folds)\n",
    "\n",
    "print(f\"Meilleur valeur de C : {liste_C[np.argmax(scores)]}\\nF-score moyen pour cette valeur de C : {np.max(scores)}\")"
   ]
  },
  {
   "cell_type": "code",
   "execution_count": 31,
   "id": "16150928",
   "metadata": {},
   "outputs": [
    {
     "data": {
      "image/png": "[encoded data removed]",
      "text/plain": [
       "<Figure size 432x288 with 1 Axes>"
      ]
     },
     "metadata": {
      "needs_background": "light"
     },
     "output_type": "display_data"
    }
   ],
   "source": [
    "fig, ax = plt.subplots()\n",
    "\n",
    "ax.plot(liste_C, scores)\n",
    "\n",
    "plt.show()"
   ]
  },
  {
   "cell_type": "markdown",
   "id": "844afe98",
   "metadata": {},
   "source": [
    "On voit avec cette figure qu'on va chercher des valeurs de C inférieures à 1."
   ]
  },
  {
   "cell_type": "code",
   "execution_count": 32,
   "id": "681c0a25",
   "metadata": {},
   "outputs": [
    {
     "name": "stdout",
     "output_type": "stream",
     "text": [
      "Meilleur valeur de C : 0.28200000000000003\n",
      "F-score moyen pour ce C : 0.7717727204544096\n"
     ]
    }
   ],
   "source": [
    "# Ici on cherche pour C compris entre 0.001 et 1 avec un pas de 0.001\n",
    "\n",
    "predictor = LogisticRegression(penalty='l2')\n",
    "liste_C = np.linspace(1e-3, 1e-0, 1000)\n",
    "\n",
    "tuned_parameters = [{'C': liste_C}]\n",
    "nb_folds = 10\n",
    "grid = GridSearchCV(predictor, tuned_parameters, cv=nb_folds, refit=False, scoring='f1')\n",
    "\n",
    "grid.fit(X_train_preprocessed, y_train)\n",
    "\n",
    "scores = grid.cv_results_['mean_test_score']\n",
    "scores_std = grid.cv_results_['std_test_score']\n",
    "\n",
    "std_error = scores_std / np.sqrt(nb_folds)\n",
    "\n",
    "print(f\"Meilleur valeur de C : {liste_C[np.argmax(scores)]}\\nF-score moyen pour ce C : {np.max(scores)}\")"
   ]
  },
  {
   "cell_type": "code",
   "execution_count": 33,
   "id": "3815544f",
   "metadata": {},
   "outputs": [
    {
     "data": {
      "image/png": "[encoded data removed]",
      "text/plain": [
       "<Figure size 432x288 with 1 Axes>"
      ]
     },
     "metadata": {
      "needs_background": "light"
     },
     "output_type": "display_data"
    }
   ],
   "source": [
    "fig, ax = plt.subplots()\n",
    "\n",
    "ax.plot(liste_C, scores)\n",
    "\n",
    "plt.show()"
   ]
  },
  {
   "cell_type": "code",
   "execution_count": 102,
   "id": "fabc0e90",
   "metadata": {},
   "outputs": [
    {
     "name": "stdout",
     "output_type": "stream",
     "text": [
      "Meilleur valeur de C : 0.0995\n",
      "F-score moyen pour ce C : 0.7562479882966615\n"
     ]
    }
   ],
   "source": [
    "# Ici on cherche pour C compris entre 0.0001 et 0.1 avec un pas de 0.0001\n",
    "\n",
    "predictor = LogisticRegression(penalty='l2')\n",
    "liste_C = np.linspace(1e-4, 1e-1, 1000)\n",
    "\n",
    "tuned_parameters = [{'C': liste_C}]\n",
    "nb_folds = 10\n",
    "grid = GridSearchCV(predictor, tuned_parameters, cv=nb_folds, refit=False, scoring='f1')\n",
    "\n",
    "grid.fit(X_train_preprocessed, y_train)\n",
    "\n",
    "scores = grid.cv_results_['mean_test_score']\n",
    "scores_std = grid.cv_results_['std_test_score']\n",
    "\n",
    "std_error = scores_std / np.sqrt(nb_folds)\n",
    "\n",
    "print(f\"Meilleur valeur de C : {liste_C[np.argmax(scores)]}\\nF-score moyen pour ce C : {np.max(scores)}\")"
   ]
  },
  {
   "cell_type": "code",
   "execution_count": 35,
   "id": "20e9804d",
   "metadata": {},
   "outputs": [
    {
     "data": {
      "image/png": "[encoded data removed]",
      "text/plain": [
       "<Figure size 432x288 with 1 Axes>"
      ]
     },
     "metadata": {
      "needs_background": "light"
     },
     "output_type": "display_data"
    }
   ],
   "source": [
    "fig, ax = plt.subplots()\n",
    "\n",
    "ax.plot(liste_C, scores)\n",
    "\n",
    "plt.show()"
   ]
  },
  {
   "cell_type": "markdown",
   "id": "cd694db9",
   "metadata": {},
   "source": [
    "On retiendra $C = 0.282$ comme valeur optimale de $C$."
   ]
  },
  {
   "cell_type": "markdown",
   "id": "1211c7e8-986d-4e46-918e-f09f7215c924",
   "metadata": {
    "tags": []
   },
   "source": [
    "#### Question 13.b\n",
    "Quel est le F-score, sur le jeu de test, d'une régression logistique avec régularisation ridge et ce coefficient de régularisation optimal, entraînée sur le jeu d'entraînement ?"
   ]
  },
  {
   "cell_type": "code",
   "execution_count": 36,
   "id": "52428c16-db07-4202-bf97-8ada338b01b9",
   "metadata": {},
   "outputs": [
    {
     "name": "stdout",
     "output_type": "stream",
     "text": [
      "0.7792421746293247\n"
     ]
    }
   ],
   "source": [
    "logis_opti = LogisticRegression(penalty='l2', C=0.282)\n",
    "logis_opti.fit(X_train_preprocessed, y_train)\n",
    "print(f1_score(y_test, logis_opti.predict(X_test_preprocessed)))"
   ]
  },
  {
   "cell_type": "markdown",
   "id": "e3b96e96-3fb2-440f-a647-92c89c26426f",
   "metadata": {},
   "source": [
    "#### Question 13.c\n",
    "Commentez ce résultat en regard de votre réponse à la question 12."
   ]
  },
  {
   "cell_type": "markdown",
   "id": "9b3bede7",
   "metadata": {},
   "source": [
    "Nous avions prévu que une régularisation l2 aurait peu d'impact sur la performance de notre modèle, et c'est bien le cas, le F-score a peu augmenté."
   ]
  },
  {
   "cell_type": "markdown",
   "id": "c8c07f73-7036-484d-825f-f9675f9fd824",
   "metadata": {},
   "source": [
    "#### Question 14\n",
    "\n",
    "Entraînez une forêt aléatoire sur le jeu d'entraînement et évaluez son F-score sur le jeu de test.\n",
    "\n",
    "__Conseils :__\n",
    "* Vous trouverez les outils nécessaires dans la classe `RandomForestClassifier` du module `ensemble` de `scikit-learn`.\n",
    "* Choisissez le nombre d'arbres par validation croisée."
   ]
  },
  {
   "cell_type": "code",
   "execution_count": 37,
   "id": "057e8c43-171d-47db-b48d-f1928c0dca6e",
   "metadata": {},
   "outputs": [],
   "source": [
    "from sklearn.ensemble import RandomForestClassifier"
   ]
  },
  {
   "cell_type": "code",
   "execution_count": 113,
   "id": "b0330b61",
   "metadata": {},
   "outputs": [
    {
     "name": "stdout",
     "output_type": "stream",
     "text": [
      "Fitting 10 folds for each of 4 candidates, totalling 40 fits\n",
      "[CV 1/10] END ...................n_estimators=1;, score=0.826 total time=   0.0s\n",
      "[CV 2/10] END ...................n_estimators=1;, score=0.861 total time=   0.0s\n",
      "[CV 3/10] END ...................n_estimators=1;, score=0.844 total time=   0.0s\n",
      "[CV 4/10] END ...................n_estimators=1;, score=0.852 total time=   0.0s\n",
      "[CV 5/10] END ...................n_estimators=1;, score=0.846 total time=   0.0s\n",
      "[CV 6/10] END ...................n_estimators=1;, score=0.848 total time=   0.0s\n",
      "[CV 7/10] END ...................n_estimators=1;, score=0.840 total time=   0.0s\n",
      "[CV 8/10] END ...................n_estimators=1;, score=0.828 total time=   0.0s\n",
      "[CV 9/10] END ...................n_estimators=1;, score=0.839 total time=   0.0s\n",
      "[CV 10/10] END ..................n_estimators=1;, score=0.840 total time=   0.0s\n",
      "[CV 1/10] END ..................n_estimators=10;, score=0.907 total time=   0.0s\n",
      "[CV 2/10] END ..................n_estimators=10;, score=0.944 total time=   0.0s\n",
      "[CV 3/10] END ..................n_estimators=10;, score=0.929 total time=   0.0s\n",
      "[CV 4/10] END ..................n_estimators=10;, score=0.917 total time=   0.0s\n",
      "[CV 5/10] END ..................n_estimators=10;, score=0.911 total time=   0.0s\n",
      "[CV 6/10] END ..................n_estimators=10;, score=0.925 total time=   0.0s\n",
      "[CV 7/10] END ..................n_estimators=10;, score=0.920 total time=   0.0s\n",
      "[CV 8/10] END ..................n_estimators=10;, score=0.906 total time=   0.0s\n",
      "[CV 9/10] END ..................n_estimators=10;, score=0.923 total time=   0.0s\n",
      "[CV 10/10] END .................n_estimators=10;, score=0.906 total time=   0.0s\n",
      "[CV 1/10] END .................n_estimators=100;, score=0.929 total time=   0.5s\n",
      "[CV 2/10] END .................n_estimators=100;, score=0.947 total time=   0.6s\n",
      "[CV 3/10] END .................n_estimators=100;, score=0.929 total time=   0.5s\n",
      "[CV 4/10] END .................n_estimators=100;, score=0.931 total time=   0.5s\n",
      "[CV 5/10] END .................n_estimators=100;, score=0.928 total time=   0.5s\n",
      "[CV 6/10] END .................n_estimators=100;, score=0.942 total time=   0.5s\n",
      "[CV 7/10] END .................n_estimators=100;, score=0.939 total time=   0.5s\n",
      "[CV 8/10] END .................n_estimators=100;, score=0.925 total time=   0.5s\n",
      "[CV 9/10] END .................n_estimators=100;, score=0.951 total time=   0.6s\n",
      "[CV 10/10] END ................n_estimators=100;, score=0.922 total time=   0.6s\n",
      "[CV 1/10] END ................n_estimators=1000;, score=0.927 total time=   6.3s\n",
      "[CV 2/10] END ................n_estimators=1000;, score=0.946 total time=   6.4s\n",
      "[CV 3/10] END ................n_estimators=1000;, score=0.935 total time=   6.4s\n",
      "[CV 4/10] END ................n_estimators=1000;, score=0.931 total time=   6.2s\n",
      "[CV 5/10] END ................n_estimators=1000;, score=0.926 total time=   6.3s\n",
      "[CV 6/10] END ................n_estimators=1000;, score=0.946 total time=   6.2s\n",
      "[CV 7/10] END ................n_estimators=1000;, score=0.937 total time=   6.3s\n",
      "[CV 8/10] END ................n_estimators=1000;, score=0.928 total time=   6.4s\n",
      "[CV 9/10] END ................n_estimators=1000;, score=0.955 total time=   6.3s\n",
      "[CV 10/10] END ...............n_estimators=1000;, score=0.922 total time=   6.3s\n",
      "Meilleur nombre d'arbres : 1000\n",
      "F-score moyen pour ce nombre d'arbres : 0.9352834122710195\n"
     ]
    }
   ],
   "source": [
    "predictor = RandomForestClassifier()\n",
    "liste_n = [1, 10, 100, 1000]\n",
    "\n",
    "tuned_parameters = [{'n_estimators': liste_n}]\n",
    "nb_folds = 10\n",
    "grid = GridSearchCV(predictor, tuned_parameters, cv=nb_folds, refit=False, scoring='f1', verbose=3)\n",
    "\n",
    "grid.fit(X_train_preprocessed, y_train)\n",
    "\n",
    "scores = grid.cv_results_['mean_test_score']\n",
    "scores_std = grid.cv_results_['std_test_score']\n",
    "\n",
    "std_error = scores_std / np.sqrt(nb_folds)\n",
    "\n",
    "print(f\"Meilleur nombre d'arbres : {liste_n[np.argmax(scores)]}\\nF-score moyen pour ce nombre d'arbres : {np.max(scores)}\")"
   ]
  },
  {
   "cell_type": "code",
   "execution_count": 112,
   "id": "806b220e",
   "metadata": {},
   "outputs": [
    {
     "data": {
      "image/png": "[encoded data removed]",
      "text/plain": [
       "<Figure size 432x288 with 1 Axes>"
      ]
     },
     "metadata": {
      "needs_background": "light"
     },
     "output_type": "display_data"
    }
   ],
   "source": [
    "fig, ax = plt.subplots()\n",
    "\n",
    "ax.scatter(liste_n, scores)\n",
    "\n",
    "plt.show()"
   ]
  },
  {
   "cell_type": "markdown",
   "id": "e6bf8638-7c60-4b36-9266-0dcc83bd2e8f",
   "metadata": {},
   "source": [
    "## Modèle final"
   ]
  },
  {
   "cell_type": "markdown",
   "id": "23fe7ea4-f2c3-4567-8184-9d73e3b98526",
   "metadata": {},
   "source": [
    "#### Question 15.a\n",
    "Visualisez les performances des différents modèles (et pré-traitements) que vous avez évalués sur le jeu de test."
   ]
  },
  {
   "cell_type": "code",
   "execution_count": 117,
   "id": "4d256cef-8aef-4ddd-a956-e598e73ab5bd",
   "metadata": {},
   "outputs": [
    {
     "name": "stdout",
     "output_type": "stream",
     "text": [
      "0.7792421746293247\n",
      "0.9132492113564669\n",
      "0.9442198868229588\n",
      "0.7570332480818416\n",
      "0.9129032258064517\n",
      "0.9221757322175733\n",
      "0.9486356340288925\n",
      "0.9426030719482619\n"
     ]
    },
    {
     "data": {
      "image/png": "[encoded data removed]",
      "text/plain": [
       "<Figure size 1296x288 with 1 Axes>"
      ]
     },
     "metadata": {
      "needs_background": "light"
     },
     "output_type": "display_data"
    }
   ],
   "source": [
    "# Pré-traitement des variables avec un standard scaler\n",
    "modeles = ['reg logis, stand scaler','neighbor, stand scaler','forest, stand scaler','reg logis, minmax scaler','neighbor, minmax scaler', 'forest, minmax scaler', 'neighbor, no scaler', 'forest, no scaler']\n",
    "Fscores = []\n",
    "\n",
    "standard_scaler = preprocessing.StandardScaler()\n",
    "standard_scaler.fit(X_train)\n",
    "X_train_preprocessed = standard_scaler.transform(X_train)\n",
    "standard_scaler = preprocessing.StandardScaler()\n",
    "standard_scaler.fit(X_test)\n",
    "X_test_preprocessed = standard_scaler.transform(X_test)\n",
    "\n",
    "logis_opti1 = LogisticRegression(penalty='l2', C=0.282)\n",
    "logis_opti1.fit(X_train_preprocessed, y_train)\n",
    "y_pred = logis_opti1.predict(X_test_preprocessed)\n",
    "Fscores.append(f1_score(y_test, y_pred))\n",
    "print(f1_score(y_test, y_pred))\n",
    "\n",
    "neigh1 = neighbors.KNeighborsClassifier(n_neighbors=1)\n",
    "neigh1.fit(X_train_preprocessed, y_train)\n",
    "y_pred = neigh1.predict(X_test_preprocessed)\n",
    "Fscores.append(f1_score(y_test, y_pred))\n",
    "print(f1_score(y_test, y_pred))\n",
    "\n",
    "predictor = RandomForestClassifier(n_estimators=1000)\n",
    "predictor.fit(X_train_preprocessed, y_train)\n",
    "y_pred = predictor.predict(X_test_preprocessed)\n",
    "Fscores.append(f1_score(y_test, y_pred))\n",
    "print(f1_score(y_test, y_pred))\n",
    "\n",
    "# Pré-traitement des variables avec un scaler minmax\n",
    "minmax_scaler = preprocessing.MinMaxScaler()\n",
    "minmax_scaler.fit(X_train)\n",
    "X_train_preprocessed = minmax_scaler.transform(X_train)\n",
    "standard_scaler = preprocessing.MinMaxScaler()\n",
    "standard_scaler.fit(X_test)\n",
    "X_test_preprocessed = standard_scaler.transform(X_test)\n",
    "\n",
    "\n",
    "logis_opti2 = LogisticRegression(penalty='l2', C=0.282)\n",
    "logis_opti2.fit(X_train_preprocessed, y_train)\n",
    "y_pred = logis_opti2.predict(X_test_preprocessed)\n",
    "Fscores.append(f1_score(y_test, y_pred))\n",
    "print(f1_score(y_test, y_pred))\n",
    "\n",
    "neigh2 = neighbors.KNeighborsClassifier(n_neighbors=1)\n",
    "neigh2.fit(X_train_preprocessed, y_train)\n",
    "y_pred = neigh2.predict(X_test_preprocessed)\n",
    "Fscores.append(f1_score(y_test, y_pred))\n",
    "print(f1_score(y_test, y_pred))\n",
    "\n",
    "predictor = RandomForestClassifier(n_estimators=1000)\n",
    "predictor.fit(X_train_preprocessed, y_train)\n",
    "y_pred = predictor.predict(X_test_preprocessed)\n",
    "Fscores.append(f1_score(y_test, y_pred))\n",
    "print(f1_score(y_test, y_pred))\n",
    "\n",
    "#sans preprocessing\n",
    "\n",
    "neigh3 = neighbors.KNeighborsClassifier(n_neighbors=1)\n",
    "neigh3.fit(X_train, y_train)\n",
    "y_pred = neigh3.predict(X_test)\n",
    "Fscores.append(f1_score(y_test, y_pred))\n",
    "print(f1_score(y_test, y_pred))\n",
    "\n",
    "\n",
    "predictor = RandomForestClassifier(n_estimators=1000)\n",
    "predictor.fit(X_train, y_train)\n",
    "y_pred = predictor.predict(X_test)\n",
    "Fscores.append(f1_score(y_test, y_pred))\n",
    "print(f1_score(y_test, y_pred))\n",
    "\n",
    "plt.figure(figsize = (18,4))\n",
    "plt.bar(modeles, Fscores)\n",
    "\n",
    "plt.show()"
   ]
  },
  {
   "cell_type": "markdown",
   "id": "133426fd-c186-4b43-b979-70215480efaf",
   "metadata": {},
   "source": [
    "#### Question 15.b\n",
    "Utilisez cette figure pour __sélectionner votre modèle favori__. Quel pré-traitement choisissez-vous ? Quel algorithme choisissez-vous, avec quel hyper-paramètre ? "
   ]
  },
  {
   "cell_type": "markdown",
   "id": "93536861-4be2-41d6-a35c-425eac3cea22",
   "metadata": {},
   "source": [
    "On sélectionne le modèle des k plus proches voisins avec k = 1."
   ]
  },
  {
   "cell_type": "markdown",
   "id": "5ce64660-fb7a-4849-b59d-c6624fed6742",
   "metadata": {},
   "source": [
    "#### Question 16.a\n",
    "Chargez les données privées de `data/foret_prive.tsv` pour obtenir un array `X_private`. Le fichier suit la même syntaxe que `data/foret_public.tsv`, mais sans la colonne des étiquettes."
   ]
  },
  {
   "cell_type": "code",
   "execution_count": 124,
   "id": "229653f4-f509-4c99-b5c1-80617ab35b88",
   "metadata": {},
   "outputs": [],
   "source": [
    "df_private = pd.read_csv('data/foret_prive.tsv', delimiter='\\t')\n",
    "X_private = np.array(df_private)"
   ]
  },
  {
   "cell_type": "markdown",
   "id": "65d60735-a40d-48d7-869b-d337bcd95077",
   "metadata": {},
   "source": [
    "#### Question 16.b\n",
    "Appliquez le pré-traitement que vous avez choisi à l'intégralité du jeu de données public `X_public` pour obtenir `X_public_preprocessed`."
   ]
  },
  {
   "cell_type": "markdown",
   "id": "3de1297a-95cb-467e-b514-367e063ce117",
   "metadata": {},
   "source": [
    "On ne prend pas de preprocess."
   ]
  },
  {
   "cell_type": "markdown",
   "id": "77c1fb7c-ffe7-470f-b58b-8041c9b10330",
   "metadata": {},
   "source": [
    "#### Question 16.c\n",
    "Appliquez à `X_private` le pré-traitement que vous avez choisi ; enregistrez le résultat dans `X_private_preprocessed`."
   ]
  },
  {
   "cell_type": "markdown",
   "id": "ee87414d-dc2f-4cb0-a0af-d0770db32af9",
   "metadata": {},
   "source": [
    "On ne prend pas de preprocess."
   ]
  },
  {
   "cell_type": "markdown",
   "id": "ef4bb670-3f6d-4047-bc90-1fc978172854",
   "metadata": {},
   "source": [
    "#### Question 16.d\n",
    "Entraînez l'algorithme que vous avez sélectionné sur l'intégralité des données publiques `(X_public_processed, y_public)`. "
   ]
  },
  {
   "cell_type": "code",
   "execution_count": 125,
   "id": "d91647fe-70f5-49b2-8ef3-fb7e015be967",
   "metadata": {},
   "outputs": [
    {
     "data": {
      "text/plain": [
       "KNeighborsClassifier(n_neighbors=1)"
      ]
     },
     "execution_count": 125,
     "metadata": {},
     "output_type": "execute_result"
    }
   ],
   "source": [
    "neigh = neighbors.KNeighborsClassifier(n_neighbors=1)\n",
    "neigh.fit(X_public, y_public)\n"
   ]
  },
  {
   "cell_type": "markdown",
   "id": "25e2c093-fa21-48ff-a0e6-6a747740edbc",
   "metadata": {},
   "source": [
    "#### Question 16.e\n",
    "Prédisez les étiquettes de `X_private_preprocessed` ; enregistrez le résultat dans un array `y_pred_final`"
   ]
  },
  {
   "cell_type": "code",
   "execution_count": 128,
   "id": "9107f388-d6ec-48cd-bff7-abf0712cb3b0",
   "metadata": {},
   "outputs": [],
   "source": [
    "y_pred_final = neigh.predict(X_private)"
   ]
  },
  {
   "cell_type": "markdown",
   "id": "1f05b749-386e-460f-955d-c6e4d3852e13",
   "metadata": {},
   "source": [
    "#### Question 16.f\n",
    "Utilisez le code suivant pour créer le fichier de prédictions que vous rendrez. \n",
    "\n",
    "__Attention__ Si vous ouvrez ce fichier avec un programme externe type Microsoft Excel ou LibreOffice Calc pour le lire, il est possible que ce programme modifie le fichier sans que vous ne le réalisiez. Préférez utiliser une commande bash type `less` ou `cat` ou éditeur de texte simple ; ou alors assurez-vous de relancer la commande."
   ]
  },
  {
   "cell_type": "code",
   "execution_count": 130,
   "id": "8bd3d46b-ea54-4029-9742-c68719b25f29",
   "metadata": {},
   "outputs": [],
   "source": [
    "# Save array to file\n",
    "np.savetxt(\"test_file.tsv\", \n",
    "           y_pred_final,\n",
    "           fmt=('%d'), \n",
    "           header='Prediction',\n",
    "           delimiter='\\t', comments=\"\")"
   ]
  },
  {
   "cell_type": "markdown",
   "id": "ba074584-047b-4423-8cc5-1398a31d0bae",
   "metadata": {},
   "source": [
    "## Bonus"
   ]
  },
  {
   "cell_type": "markdown",
   "id": "744665a6-49fe-4d64-95a9-95e20dec9517",
   "metadata": {},
   "source": [
    "1. En alternative au F-score, utilisez des courbes ROC (et l'aire sous ces courbes) pour comparer vos modèles. Attention à utiliser les méthodes `predict_proba()` plutôt que `predict()` pour obtenir des scores non-seuillés plutôt que des prédictions binaires. Documentation pertinente : https://scikit-learn.org/stable/modules/generated/sklearn.metrics.plot_roc_curve.html et  https://scikit-learn.org/stable/modules/generated/sklearn.metrics.roc_auc_score.html.\n",
    "\n",
    "1. Explorez d'autres pré-traitements (comme par exemple le fait de réduire la dimension des données) et d'autres algorithmes d'apprentissage implémentés dans scikit-learn (par exemple SVM, perceptrons multi-couches) pour essayer d'améliorer vos prédictions et reprenez la question 15."
   ]
  }
 ],
 "metadata": {
  "interpreter": {
   "hash": "6a11cae7ce49ccd40a0abcaf963fe2da9dff61fe3ff58ca0a459652c711b5690"
  },
  "kernelspec": {
   "display_name": "Python 3",
   "language": "python",
   "name": "python3"
  },
  "language_info": {
   "codemirror_mode": {
    "name": "ipython",
    "version": 3
   },
   "file_extension": ".py",
   "mimetype": "text/x-python",
   "name": "python",
   "nbconvert_exporter": "python",
   "pygments_lexer": "ipython3",
   "version": "3.9.4"
  }
 },
 "nbformat": 4,
 "nbformat_minor": 5
}
